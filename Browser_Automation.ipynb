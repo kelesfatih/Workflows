{
 "cells": [
  {
   "metadata": {},
   "cell_type": "markdown",
   "source": "# Imports",
   "id": "c4cb21ef4e5f8334"
  },
  {
   "metadata": {
    "ExecuteTime": {
     "end_time": "2025-03-06T11:17:45.068125Z",
     "start_time": "2025-03-06T11:17:44.408774Z"
    }
   },
   "cell_type": "code",
   "source": [
    "import logging\n",
    "import requests\n",
    "\n",
    "import time\n",
    "\n",
    "from selenium import webdriver\n",
    "from selenium.webdriver.common.by import By\n",
    "from selenium.webdriver.support.ui import WebDriverWait\n",
    "from selenium.webdriver.support import expected_conditions as EC\n",
    "from selenium.webdriver.edge.service import Service as EdgeService\n",
    "from webdriver_manager.microsoft import EdgeChromiumDriverManager\n",
    "from selenium.webdriver.edge.options import Options\n",
    "\n",
    "import tkinter as tk\n",
    "from tkinter import messagebox"
   ],
   "id": "1c59bd9c1f023653",
   "outputs": [],
   "execution_count": 1
  },
  {
   "metadata": {},
   "cell_type": "markdown",
   "source": "# CAPTCHA Solving Function",
   "id": "ee9e414d145d5c3e"
  },
  {
   "metadata": {
    "ExecuteTime": {
     "end_time": "2025-03-06T11:17:47.064437Z",
     "start_time": "2025-03-06T11:17:47.051960Z"
    }
   },
   "cell_type": "code",
   "source": [
    "def solve_captcha(api_key, captcha_image_url):\n",
    "    # Send CAPTCHA to 2Captcha\n",
    "    response = requests.post(\n",
    "        'http://2captcha.com/in.php',\n",
    "        data={\n",
    "            'key': api_key,\n",
    "            'method': 'base64',\n",
    "            'body': captcha_image_url,\n",
    "            'json': 1\n",
    "        }\n",
    "    )\n",
    "    request_id = response.json().get('request')\n",
    "\n",
    "    # Wait for the CAPTCHA to be solved\n",
    "    time.sleep(20)\n",
    "\n",
    "    # Retrieve the CAPTCHA solution\n",
    "    response = requests.get(\n",
    "        'http://2captcha.com/res.php',\n",
    "        params={\n",
    "            'key': api_key,\n",
    "            'action': 'get',\n",
    "            'id': request_id,\n",
    "            'json': 1\n",
    "        }\n",
    "    )\n",
    "    return response.json().get('request')"
   ],
   "id": "4eeee218dbeca15b",
   "outputs": [],
   "execution_count": 2
  },
  {
   "metadata": {},
   "cell_type": "markdown",
   "source": "# Automation Function",
   "id": "cb7bb04b8bb85886"
  },
  {
   "metadata": {
    "ExecuteTime": {
     "end_time": "2025-03-06T11:17:50.303517Z",
     "start_time": "2025-03-06T11:17:50.294863Z"
    }
   },
   "cell_type": "code",
   "source": [
    "logging.basicConfig(level=logging.INFO, format='%(asctime)s - %(levelname)s - %(message)s')\n",
    "\n",
    "def run_bot(username, password, root, api_key):\n",
    "    options = Options()\n",
    "    options.add_argument(\"--user-data-dir=C:/Users/user/AppData/Local/Temp/EdgeProfile\")\n",
    "    options.add_argument(\"--start-maximized\")\n",
    "    options.add_argument(\"--disable-extensions\")\n",
    "\n",
    "    driver = webdriver.Edge(service=EdgeService(EdgeChromiumDriverManager().install()), options=options)\n",
    "    try:\n",
    "        logging.info(\"Navigating to the login page\")\n",
    "        driver.get(\"https://target_website.com\")\n",
    "\n",
    "        # LOGIN\n",
    "        logging.info(\"Filling in login details\")\n",
    "        username_field = driver.find_element(By.ID, \"username\")\n",
    "        password_field = driver.find_element(By.ID, \"password\")\n",
    "        login_button = driver.find_element(By.ID, \"login_button\")\n",
    "        username_field.send_keys(username)\n",
    "        password_field.send_keys(password)\n",
    "        login_button.click()\n",
    "\n",
    "        # Accept Terms and Conditions\n",
    "        logging.info(\"Accepting terms and conditions\")\n",
    "        terms_button = WebDriverWait(driver, 10).until(\n",
    "            EC.element_to_be_clickable((By.ID, \"terms_button\"))\n",
    "        )\n",
    "        terms_button.click()\n",
    "\n",
    "        # Handle CAPTCHA\n",
    "        logging.info(\"Solving CAPTCHA\")\n",
    "        captcha_image = driver.find_element(By.ID, \"captcha_image\")\n",
    "        captcha_solution = solve_captcha(api_key, captcha_image.get_attribute(\"src\"))\n",
    "        captcha_input = driver.find_element(By.ID, \"captcha_input\")\n",
    "        captcha_input.send_keys(captcha_solution)\n",
    "        captcha_submit = driver.find_element(By.ID, \"captcha_submit\")\n",
    "        captcha_submit.click()\n",
    "\n",
    "        # Sidebar Menu\n",
    "        wait = WebDriverWait(driver, 10)\n",
    "        sidebar_menu = wait.until(EC.presence_of_element_located((By.ID, \"sidebar_menu\")))\n",
    "        sidebar_toggle = sidebar_menu.find_element(By.ID, \"sidebar_toggle\")\n",
    "        sidebar_toggle.click()\n",
    "\n",
    "        sidebar_item = wait.until(EC.element_to_be_clickable((By.XPATH, \"sidebar_item\")))\n",
    "        sidebar_item.click()\n",
    "\n",
    "        confirmation_button = wait.until(EC.element_to_be_clickable((By.ID, \"confirmation_button\")))\n",
    "        confirmation_button.click()\n",
    "    except Exception as e:\n",
    "        logging.error(f\"An error occurred: {e}\")\n",
    "    finally:\n",
    "        driver.quit()\n",
    "        root.destroy()"
   ],
   "id": "bf0a9342e4325762",
   "outputs": [],
   "execution_count": 3
  },
  {
   "metadata": {},
   "cell_type": "markdown",
   "source": "# GUI",
   "id": "893ca642615feee"
  },
  {
   "metadata": {
    "ExecuteTime": {
     "end_time": "2025-03-06T11:17:54.182351Z",
     "start_time": "2025-03-06T11:17:54.173727Z"
    }
   },
   "cell_type": "code",
   "source": [
    "def main():\n",
    "    root = tk.Tk()\n",
    "    root.geometry(\"1000x1000\")\n",
    "    root.title(\"GUI\")\n",
    "\n",
    "    tk.Label(root, text=\"Enter your username:\").pack()\n",
    "    username_entry = tk.Entry(root)\n",
    "    username_entry.pack()\n",
    "\n",
    "    tk.Label(root, text=\"Enter your password:\").pack()\n",
    "    password_entry = tk.Entry(root, show='*')\n",
    "    password_entry.pack()\n",
    "\n",
    "    tk.Label(root, text=\"Enter your 2Captcha API key:\").pack()\n",
    "    api_key_entry = tk.Entry(root)\n",
    "    api_key_entry.pack()\n",
    "\n",
    "    disclaimer_label = tk.Label(root, text=\"text\", fg=\"black\", wraplength=480, justify=tk.LEFT, font=(\"Arial\", 12))\n",
    "    disclaimer_label.pack(pady=10)\n",
    "\n",
    "    def on_submit():\n",
    "        username = username_entry.get()\n",
    "        password = password_entry.get()\n",
    "        api_key = api_key_entry.get()\n",
    "\n",
    "        if not username or not password or not api_key:\n",
    "            messagebox.showerror(\"Error\", \"All fields are required!\")\n",
    "            return\n",
    "\n",
    "    submit_button = tk.Button(root, text=\"Submit\", command=on_submit)\n",
    "    submit_button.pack()\n",
    "    root.mainloop()"
   ],
   "id": "5f7f40dd5156235a",
   "outputs": [],
   "execution_count": 4
  },
  {
   "metadata": {
    "ExecuteTime": {
     "end_time": "2025-03-06T11:18:22.036472Z",
     "start_time": "2025-03-06T11:18:06.389342Z"
    }
   },
   "cell_type": "code",
   "source": [
    "if __name__ == \"__main__\":\n",
    "    main()"
   ],
   "id": "f0b813dd24c68911",
   "outputs": [],
   "execution_count": 5
  }
 ],
 "metadata": {
  "kernelspec": {
   "display_name": "Python 3",
   "language": "python",
   "name": "python3"
  },
  "language_info": {
   "codemirror_mode": {
    "name": "ipython",
    "version": 2
   },
   "file_extension": ".py",
   "mimetype": "text/x-python",
   "name": "python",
   "nbconvert_exporter": "python",
   "pygments_lexer": "ipython2",
   "version": "2.7.6"
  }
 },
 "nbformat": 4,
 "nbformat_minor": 5
}
